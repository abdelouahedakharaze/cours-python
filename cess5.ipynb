{
 "cells": [
  {
   "cell_type": "markdown",
   "metadata": {},
   "source": [
    "<div style=\"background: linear-gradient(to right, #007A4D, #FFFFFF, #000000); color: white; font-size: 25px; text-align: center;\">\n",
    "    <b></b>\n",
    "</div>\n"
   ]
  },
  {
   "cell_type": "markdown",
   "metadata": {},
   "source": [
    "<div style=\"background: linear-gradient(to right, #87CEEB, #00BFFF); color: white; font-size: 25px; text-align: center;\">\n",
    "    <b>Continuation of iteration and start of strings</b>\n",
    "</div>\n"
   ]
  },
  {
   "cell_type": "code",
   "execution_count": 9,
   "metadata": {},
   "outputs": [
    {
     "name": "stdout",
     "output_type": "stream",
     "text": [
      "min == 4 , max == 7\n"
     ]
    }
   ],
   "source": [
    "my_max=None\n",
    "my_min=None\n",
    "while True:\n",
    "    number=input(\" Enter a number  or stop or STOP\")\n",
    "    if number ==\"STOP\" or number==\"stop\":\n",
    "        break\n",
    "    number=int(number)\n",
    "    if my_max is None or number > my_max:\n",
    "        my_max=number\n",
    "    if my_min is None or number < my_min :\n",
    "        my_min=number\n",
    "print (f\"min == {my_min} , max == {my_max}\" )\n",
    "    "
   ]
  },
  {
   "cell_type": "markdown",
   "metadata": {},
   "source": [
    "<div style=\"background: linear-gradient(to right, #87CEEB, #00BFFF); color: white; font-size: 40px; text-align: center;\">\n",
    "    <b> strings</b>\n",
    "</div>\n"
   ]
  },
  {
   "cell_type": "code",
   "execution_count": 12,
   "metadata": {},
   "outputs": [
    {
     "name": "stdout",
     "output_type": "stream",
     "text": [
      "n\n",
      "6\n",
      "a\n"
     ]
    }
   ],
   "source": [
    "fruit= \"Banana\"\n",
    "print(fruit[4])\n",
    "print(len(fruit))\n",
    "print(fruit[len(fruit)-1])"
   ]
  },
  {
   "cell_type": "code",
   "execution_count": 16,
   "metadata": {},
   "outputs": [
    {
     "name": "stdout",
     "output_type": "stream",
     "text": [
      "=B==a==n==a==n==a="
     ]
    }
   ],
   "source": [
    "fruit= \"Banana\"\n",
    "indice=0\n",
    "while indice < len(fruit):\n",
    "    print(f\"={ fruit[indice]}=\",end=\"\")\n",
    "    indice+=1"
   ]
  },
  {
   "cell_type": "code",
   "execution_count": 18,
   "metadata": {},
   "outputs": [
    {
     "name": "stdout",
     "output_type": "stream",
     "text": [
      " anomil , ananaB"
     ]
    }
   ],
   "source": [
    "fruit=\"Banana , limona \"\n",
    "i=len(fruit)-1\n",
    "while i >-1:\n",
    "    print(fruit[i],end=\"\")\n",
    "    i-=1"
   ]
  },
  {
   "cell_type": "code",
   "execution_count": 20,
   "metadata": {},
   "outputs": [
    {
     "name": "stdout",
     "output_type": "stream",
     "text": [
      "Banana , limona "
     ]
    }
   ],
   "source": [
    "fruit=\"Banana , limona \"\n",
    "for char in fruit:\n",
    "    print(char,end=\"\")"
   ]
  },
  {
   "cell_type": "code",
   "execution_count": 22,
   "metadata": {},
   "outputs": [
    {
     "name": "stdout",
     "output_type": "stream",
     "text": [
      " anomil , ananaB"
     ]
    }
   ],
   "source": [
    "fruit=\"Banana , limona \"\n",
    "for i in range(len(fruit)-1,-1,-1):\n",
    "    print(fruit[i],end=\"\")"
   ]
  }
 ],
 "metadata": {
  "kernelspec": {
   "display_name": "base",
   "language": "python",
   "name": "python3"
  },
  "language_info": {
   "codemirror_mode": {
    "name": "ipython",
    "version": 3
   },
   "file_extension": ".py",
   "mimetype": "text/x-python",
   "name": "python",
   "nbconvert_exporter": "python",
   "pygments_lexer": "ipython3",
   "version": "3.11.4"
  }
 },
 "nbformat": 4,
 "nbformat_minor": 2
}
